{
 "cells": [
  {
   "cell_type": "markdown",
   "metadata": {},
   "source": [
    "# Avaliação Bancos de Dados I\n",
    "\n",
    "### Aluno: Thiago Manata Michaelsen\n",
    "\n",
    "## Modelagem e normalização de bancos de dados relacionais\n",
    "Certo dia, um dos gestores do banco em que você trabalha como cientista de dados procurou você pedindo ajuda para projetar um pequeno banco de dados com o objetivo de mapear os clientes da companhia pelos diferentes produtos financeiros que eles contrataram.\n",
    "\n",
    "O gestor explicou que o banco tinha uma grande quantidade de clientes e oferecia uma variedade de produtos financeiros, como cartões de crédito, empréstimos, seguros e investimentos. No entanto, eles estavam tendo dificuldades para entender quais produtos eram mais populares entre os clientes e como esses produtos estavam interagindo entre si.\n",
    "\n",
    "Como ponto de partida, o gestor deixou claro que um cliente pode contratar vários produtos diferentes ao passo que um mesmo produto pode também estar associado a vários clientes diferentes e elaborou um rústico esboço de banco de dados com duas tabelas, da seguinte forma:\n",
    "\n",
    "Tabela 1\n",
    "\n",
    "Nome da tabela: cliente\n",
    "Colunas: codigo_cliente, nome_cliente, sobrenome_cliente, telefones_cliente, municipio_cliente, codigo_tipo_cliente, tipo_cliente\n",
    "Tabela 2\n",
    "\n",
    "Nome da tabela: produto\n",
    "Colunas: codigo_produto, nome_produto, descricao_produto, codigo_tipo_produto, tipo_produto, codigo_diretor_responsavel, nome_diretor_responsavel, email_diretor_responsavel\n",
    "1) Ainda sem fazer normalizações, apresente o modelo conceitual deste esboço oferecido pelo gestor, destacando atributos chaves e multivalorados, caso existam, e apresentando também a cardinalidade dos relacionamentos.\n",
    "\n",
    "2) Agora apresente um modelo lógico que expresse as mesmas informações e relacionamentos descritos no modelo original, mas decompondo-os quando necessário para que sejam respeitadas as 3 primeiras formas normais. Destaque atributos chaves e multivalorados, caso existam, e apresente também a cardinalidade dos relacionamentos.\n",
    "\n",
    "## Consultas SQL simples e complexas em um banco de dados postgres\n",
    "Um exemplo de modelo de banco de dados com relacionamento muitos-para-muitos pode ser o de um e-commerce que tem produtos e categorias, onde um produto pode pertencer a várias categorias e uma categoria pode estar associada a vários produtos. Nesse caso, teríamos duas tabelas: \"produtos\" e \"categorias\", com uma tabela intermediária \"produtos_categorias\" para relacionar os produtos às suas categorias.\n",
    "\n",
    "```mysql\n",
    "CREATE TABLE produtos (\n",
    "    id SERIAL PRIMARY KEY,\n",
    "    nome VARCHAR(100) NOT NULL,\n",
    "    preco DECIMAL(10, 2) NOT NULL,\n",
    ");\n",
    "\n",
    "CREATE TABLE categorias (\n",
    "    id SERIAL PRIMARY KEY,\n",
    "    nome VARCHAR(100) NOT NULL\n",
    ");\n",
    "\n",
    "CREATE TABLE produtos_categorias (\n",
    "    produto_id INTEGER REFERENCES produtos(id),\n",
    "    categoria_id INTEGER REFERENCES categorias(id),\n",
    "    PRIMARY KEY (produto_id, categoria_id)\n",
    ");\n",
    "```\n",
    "Assim, usando o subconjunto da \"structured query language\" chamado de DQL, produza consultas postgress de modo a atender cada uma das seguintes solicitações:\n",
    "\n",
    "3) Liste os nomes de todos os produtos que custam mais de 100 reais, ordenando-os primeiramente pelo preço e em segundo lugar pelo nome. Use alias para mostrar o nome da coluna nome como \"Produto\" e da coluna preco como \"Valor\". A resposta da consulta não deve mostrar outras colunas de dados.\n",
    "\n",
    "4) Liste todos os ids e preços de produtos cujo preço seja maior do que a média de todos os preços encontrados na tabela \"produtos\".\n",
    "\n",
    "5) Para cada categoria, mostre o preço médio do conjunto de produtos a ela associados. Caso uma categoria não tenha nenhum produto a ela associada, esta categoria não deve aparecer no resultado final. A consulta deve estar ordenada pelos nomes das categorias.\n",
    "\n",
    "Inserções, alterações e remoções de objetos e dados em um banco de dados postgres\n",
    "Você está participando de um processo seletivo para trabalhar como cientista de dados na Ada, uma das maiores formadoras do país em áreas correlatadas à tecnologia. Dividido em algumas etapas, o processo tem o objetivo de avaliar você nos quesitos Python, Machine Learning e Bancos de Dados. Ainda que os dois primeiros sejam o cerne da sua atuação no dia-a-dia, considera-se que Bancos de Dados também constituem um requisito importante e, por isso, esta etapa pode ser a oportunidade que você precisava para se destacar dentre os seus concorrentes, demonstrando um conhecimento mais amplo do que os demais.\n",
    "\n",
    "6) Com o objetivo de demonstrar o seu conhecimento através de um exemplo contextualizado com o dia-a-dia da escola, utilize os comandos do subgrupo de funções DDL para construir o banco de dados simples abaixo, que representa um relacionamento do tipo 1,n entre as entidades \"aluno\" e \"turma\":\n",
    "\n",
    "Tabela 1\n",
    "\n",
    "Nome da tabela: aluno\n",
    "Colunas da tabela: id_aluno (INT), nome_aluno (VARCHAR), aluno_alocado (BOOLEAN), id_turma (INT)\n",
    "Tabela 2\n",
    "\n",
    "Nome da tabela: turma\n",
    "Colunas da tabela: id_turma (INT), código_turma (VARCHAR), nome_turma (VARCHAR)\n",
    "\n",
    "7) Agora que você demonstrou que consegue ser mais do que um simples usuário do banco de dados, mostre separadamente cada um dos códigos DML necessários para cumprir cada uma das etapas a seguir:\n",
    "\n",
    "a) Inserir pelo menos duas turmas diferentes na tabela de turma;\n",
    "\n",
    "b) Inserir pelo menos 1 aluno alocado em cada uma destas turmas na tabela aluno (todos com NULL na coluna aluno_alocado);\n",
    "\n",
    "c) Inserir pelo menos 2 alunos não alocados em nenhuma turma na tabela aluno (todos com NULL na coluna aluno_alocado);\n",
    "\n",
    "d) Atualizar a coluna aluno_alocado da tabela aluno, de modo que os alunos associados a uma disciplina recebam o valor True e alunos não associdos a nenhuma disciplina recebam o falor False para esta coluna."
   ]
  },
  {
   "cell_type": "markdown",
   "metadata": {},
   "source": [
    "##### 1) Ainda sem fazer normalizações, apresente o modelo conceitual deste esboço oferecido pelo gestor, destacando atributos chaves e multivalorados, caso existam, e apresentando também a cardinalidade dos relacionamentos.\n",
    "\n",
    "![Modelo Conceitual Inicial](./modelo_conceitual_inicial.png)"
   ]
  },
  {
   "cell_type": "markdown",
   "metadata": {},
   "source": [
    "##### 2) Agora apresente um modelo lógico que expresse as mesmas informações e relacionamentos descritos no modelo original, mas decompondo-os quando necessário para que sejam respeitadas as 3 primeiras formas normais. Destaque atributos chaves e multivalorados, caso existam, e apresente também a cardinalidade dos relacionamentos.\n",
    "\n",
    "Modelo conceitual após aplicação das três primeiras formas normais (3FN):\n",
    "\n",
    "![Modelo Conceitual 3FN](./modelo_conceitual_3fn.png)\n",
    "\n",
    "Modelo lógico gerado à partir do modelo conceitual normalizado:\n",
    "\n",
    "![Modelo Logico 3FN](./modelo_logico_3fn.png)"
   ]
  },
  {
   "cell_type": "code",
   "execution_count": null,
   "metadata": {
    "vscode": {
     "languageId": "sql"
    }
   },
   "outputs": [],
   "source": [
    "-- CODIGO SQL GERADO ATRAVÉS DO MODELO LÓGICO 3FN:\n",
    "\n",
    "CREATE TABLE tipo_cliente (\n",
    "    codigo_tipo_cliente INT PRIMARY KEY AUTO INCREMENT,\n",
    "    tipo_cliente VARCHAR(50)\n",
    ");\n",
    "\n",
    "CREATE TABLE cliente (\n",
    "    codigo_cliente INT PRIMARY KEY AUTO INCREMENT,\n",
    "    nome_cliente VARCHAR(50),\n",
    "    sobrenome_cliente VARCHAR(200),\n",
    "    municipio_cliente VARCHAR(200),\n",
    "    codigo_tipo_cliente INT\n",
    ");\n",
    "\n",
    "CREATE TABLE diretor_responsavel (\n",
    "    codigo_diretor_responsavel INT PRIMARY KEY AUTO INCREMENT,\n",
    "    nome_diretor_responsavel VARCHAR(200),\n",
    "    email_diretor_responsavel VARCHAR(200)\n",
    ");\n",
    "\n",
    "CREATE TABLE tipo_produto (\n",
    "    codigo_tipo_produto INT PRIMARY KEY AUTO INCREMENT,\n",
    "    tipo_produto VARCHAR(200)\n",
    ");\n",
    "\n",
    "CREATE TABLE cliente_produto (\n",
    "    codigo_cliente INT,\n",
    "    codigo_produto INT\n",
    ");\n",
    "\n",
    "CREATE TABLE produto (\n",
    "    codigo_produto INT PRIMARY KEY AUTO INCREMENT,\n",
    "    nome_produto VARCHAR(200),\n",
    "    descricao_produto VARCHAR(500),\n",
    "    codigo_tipo_produto INT,\n",
    "    codigo_diretor_responsavel INT\n",
    ");\n",
    "\n",
    "CREATE TABLE telefone (\n",
    "    codigo_cliente INT PRIMARY KEY AUTO INCREMENT,\n",
    "    telefone_cliente VARCHAR(14)\n",
    ");\n",
    " \n",
    "ALTER TABLE cliente ADD\n",
    "    FOREIGN KEY (codigo_tipo_cliente)\n",
    "    REFERENCES tipo_cliente (codigo_tipo_cliente);\n",
    " \n",
    "ALTER TABLE cliente_produto ADD\n",
    "    FOREIGN KEY (codigo_cliente)\n",
    "    REFERENCES cliente (codigo_cliente);\n",
    " \n",
    "ALTER TABLE cliente_produto ADD\n",
    "    FOREIGN KEY (codigo_produto)\n",
    "    REFERENCES produto (codigo_produto);\n",
    " \n",
    "ALTER TABLE produto ADD\n",
    "    FOREIGN KEY (codigo_diretor_responsavel)\n",
    "    REFERENCES diretor_responsavel (codigo_diretor_responsavel);\n",
    " \n",
    "ALTER TABLE produto ADD\n",
    "    FOREIGN KEY (codigo_tipo_produto)\n",
    "    REFERENCES tipo_produto (codigo_tipo_produto);\n",
    " \n",
    "ALTER TABLE telefone ADD\n",
    "    FOREIGN KEY (codigo_cliente)\n",
    "    REFERENCES cliente (codigo_cliente);"
   ]
  },
  {
   "cell_type": "markdown",
   "metadata": {},
   "source": [
    "##### 3) Liste os nomes de todos os produtos que custam mais de 100 reais, ordenando-os primeiramente pelo preço e em segundo lugar pelo nome. Use alias para mostrar o nome da coluna nome como \"Produto\" e da coluna preco como \"Valor\". A resposta da consulta não deve mostrar outras colunas de dados."
   ]
  },
  {
   "cell_type": "code",
   "execution_count": null,
   "metadata": {
    "vscode": {
     "languageId": "sql"
    }
   },
   "outputs": [],
   "source": [
    "SELECT\n",
    "    nome AS 'Produto',\n",
    "    preco AS 'Valor'\n",
    "FROM produtos\n",
    "WHERE preco > 100\n",
    "ORDER BY\n",
    "    preco ASC,\n",
    "    nome ASC"
   ]
  },
  {
   "cell_type": "markdown",
   "metadata": {},
   "source": [
    "##### 4) Liste todos os ids e preços de produtos cujo preço seja maior do que a média de todos os preços encontrados na tabela \"produtos\"."
   ]
  },
  {
   "cell_type": "code",
   "execution_count": null,
   "metadata": {
    "vscode": {
     "languageId": "sql"
    }
   },
   "outputs": [],
   "source": [
    "SELECT\n",
    "    id AS 'ID',\n",
    "    preco AS 'Valor'\n",
    "FROM produtos\n",
    "WHERE preco > (\n",
    "    SELECT AVG(preco)\n",
    "    FROM produtos\n",
    ")"
   ]
  },
  {
   "cell_type": "markdown",
   "metadata": {},
   "source": [
    "##### 5) Para cada categoria, mostre o preço médio do conjunto de produtos a ela associados. Caso uma categoria não tenha nenhum produto a ela associada, esta categoria não deve aparecer no resultado final. A consulta deve estar ordenada pelos nomes das categorias.\n",
    "\n",
    "Inserções, alterações e remoções de objetos e dados em um banco de dados postgres\n",
    "Você está participando de um processo seletivo para trabalhar como cientista de dados na Ada, uma das maiores formadoras do país em áreas correlatadas à tecnologia. Dividido em algumas etapas, o processo tem o objetivo de avaliar você nos quesitos Python, Machine Learning e Bancos de Dados. Ainda que os dois primeiros sejam o cerne da sua atuação no dia-a-dia, considera-se que Bancos de Dados também constituem um requisito importante e, por isso, esta etapa pode ser a oportunidade que você precisava para se destacar dentre os seus concorrentes, demonstrando um conhecimento mais amplo do que os demais."
   ]
  },
  {
   "cell_type": "code",
   "execution_count": null,
   "metadata": {
    "vscode": {
     "languageId": "sql"
    }
   },
   "outputs": [],
   "source": [
    "SELECT\n",
    "    c.nome AS 'Categoria',\n",
    "    AVG(p.preco) AS 'Preco Medio'\n",
    "FROM categorias c\n",
    "LEFT JOIN\n",
    "    produtos_categorias pc\n",
    "    ON c.id = pc.categoria_id\n",
    "LEFT JOIN\n",
    "    produtos p\n",
    "    ON pc.produto_id = p.id\n",
    "GROUP BY c.nome\n",
    "HAVING COUNT(p.id) > 0\n",
    "ORDER BY c.nome"
   ]
  },
  {
   "cell_type": "markdown",
   "metadata": {},
   "source": [
    "##### 6) Com o objetivo de demonstrar o seu conhecimento através de um exemplo contextualizado com o dia-a-dia da escola, utilize os comandos do subgrupo de funções DDL para construir o banco de dados simples abaixo, que representa um relacionamento do tipo 1,n entre as entidades \"aluno\" e \"turma\":\n",
    "\n",
    "Tabela 1\n",
    "\n",
    "Nome da tabela: aluno\n",
    "Colunas da tabela: id_aluno (INT), nome_aluno (VARCHAR), aluno_alocado (BOOLEAN), id_turma (INT)\n",
    "Tabela 2\n",
    "\n",
    "Nome da tabela: turma\n",
    "Colunas da tabela: id_turma (INT), código_turma (VARCHAR), nome_turma (VARCHAR)"
   ]
  },
  {
   "cell_type": "code",
   "execution_count": null,
   "metadata": {
    "vscode": {
     "languageId": "sql"
    }
   },
   "outputs": [],
   "source": [
    "CREATE TABLE aluno (\n",
    "    id_aluno INT PRIMARY KEY AUTO INCREMENT,\n",
    "    nome_aluno VARCHAR(200) NOT NULL,\n",
    "    aluno_alocado BOOLEAN,\n",
    "    id_turma INT\n",
    ");\n",
    "\n",
    "CREATE TABLE turma (\n",
    "    id_turma INT PRIMARY KEY AUTO INCREMENT,\n",
    "    codigo_turma VARCHAR(30) NOT NULL,\n",
    "    nome_turma VARCHAR(200) NOT NULL,\n",
    ");\n",
    "\n",
    "ALTER TABLE aluno ADD FOREIGN KEY (id_turma) REFERENCES turma (id_turma)"
   ]
  },
  {
   "cell_type": "markdown",
   "metadata": {},
   "source": [
    "##### 7) Agora que você demonstrou que consegue ser mais do que um simples usuário do banco de dados, mostre separadamente cada um dos códigos DML necessários para cumprir cada uma das etapas a seguir:\n",
    "\n",
    "a) Inserir pelo menos duas turmas diferentes na tabela de turma;"
   ]
  },
  {
   "cell_type": "code",
   "execution_count": null,
   "metadata": {
    "vscode": {
     "languageId": "sql"
    }
   },
   "outputs": [],
   "source": [
    "INSERT INTO turma (codigo_turma, nome_turma) VALUES\n",
    "('ADA-1007', 'ADA Data Science - Santander Coders 2023'),\n",
    "('ADA-1008', 'ADA Data Engineering - Santander Coders 2023')"
   ]
  },
  {
   "cell_type": "markdown",
   "metadata": {},
   "source": [
    "b) Inserir pelo menos 1 aluno alocado em cada uma destas turmas na tabela aluno (todos com NULL na coluna aluno_alocado);"
   ]
  },
  {
   "cell_type": "code",
   "execution_count": null,
   "metadata": {
    "vscode": {
     "languageId": "sql"
    }
   },
   "outputs": [],
   "source": [
    "INSERT INTO aluno (nome_aluno, aluno_alocado, id_turma) VALUES\n",
    "('Thiago Michaelsen', NULL, 1),\n",
    "('Lucas Ximenes', NULL, 2)"
   ]
  },
  {
   "cell_type": "markdown",
   "metadata": {},
   "source": [
    "c) Inserir pelo menos 2 alunos não alocados em nenhuma turma na tabela aluno (todos com NULL na coluna aluno_alocado);"
   ]
  },
  {
   "cell_type": "code",
   "execution_count": null,
   "metadata": {
    "vscode": {
     "languageId": "sql"
    }
   },
   "outputs": [],
   "source": [
    "INSERT INTO aluno (nome_aluno, aluno_alocado, id_turma) VALUES\n",
    "('Linus Torvalds', NULL, NULL),\n",
    "('Kevin Mitnick', NULL, NULL)"
   ]
  },
  {
   "cell_type": "markdown",
   "metadata": {},
   "source": [
    "d) Atualizar a coluna aluno_alocado da tabela aluno, de modo que os alunos associados a uma disciplina recebam o valor True e alunos não associdos a nenhuma disciplina recebam o falor False para esta coluna."
   ]
  },
  {
   "cell_type": "code",
   "execution_count": null,
   "metadata": {
    "vscode": {
     "languageId": "sql"
    }
   },
   "outputs": [],
   "source": [
    "UPDATE aluno\n",
    "SET aluno_alocado = CASE\n",
    "    WHEN id_turma IS NOT NULL THEN TRUE\n",
    "    ELSE FALSE\n",
    "    END"
   ]
  }
 ],
 "metadata": {
  "language_info": {
   "name": "python"
  },
  "orig_nbformat": 4
 },
 "nbformat": 4,
 "nbformat_minor": 2
}
